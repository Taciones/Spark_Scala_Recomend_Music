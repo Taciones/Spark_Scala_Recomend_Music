{
 "cells": [
  {
   "cell_type": "code",
   "execution_count": 1,
   "metadata": {},
   "outputs": [
    {
     "data": {
      "text/plain": [
       "Intitializing Scala interpreter ..."
      ]
     },
     "metadata": {},
     "output_type": "display_data"
    },
    {
     "data": {
      "text/plain": [
       "Spark Web UI available at http://tacios-mbp-3.br.ibm.com:4040\n",
       "SparkContext available as 'sc' (version = 2.4.3, master = local[*], app id = local-1570050767246)\n",
       "SparkSession available as 'spark'\n"
      ]
     },
     "metadata": {},
     "output_type": "display_data"
    },
    {
     "name": "stdout",
     "output_type": "stream",
     "text": [
      "1059637 1000010 238\n",
      "1059637 1000049 1\n",
      "1059637 1000056 1\n",
      "1059637 1000062 11\n",
      "1059637 1000094 1\n"
     ]
    },
    {
     "data": {
      "text/plain": [
       "rawUserArtistData: org.apache.spark.sql.Dataset[String] = [value: string]\n"
      ]
     },
     "execution_count": 1,
     "metadata": {},
     "output_type": "execute_result"
    }
   ],
   "source": [
    "val rawUserArtistData =\n",
    "  spark.read.textFile(\"user_artist_data_small.txt\")\n",
    "\n",
    "rawUserArtistData.take(5).foreach(println)"
   ]
  },
  {
   "cell_type": "code",
   "execution_count": 2,
   "metadata": {},
   "outputs": [
    {
     "name": "stdout",
     "output_type": "stream",
     "text": [
      "+---------+---------+-----------+-----------+\n",
      "|min(user)|max(user)|min(artist)|max(artist)|\n",
      "+---------+---------+-----------+-----------+\n",
      "|  1000647|  2288164|          1|   10788218|\n",
      "+---------+---------+-----------+-----------+\n",
      "\n"
     ]
    },
    {
     "data": {
      "text/plain": [
       "userArtistDF: org.apache.spark.sql.DataFrame = [user: int, artist: int]\n"
      ]
     },
     "execution_count": 2,
     "metadata": {},
     "output_type": "execute_result"
    }
   ],
   "source": [
    "val userArtistDF = rawUserArtistData.map { line =>\n",
    "  val Array(user, artist, _*) = line.split(' ')\n",
    "  (user.toInt, artist.toInt)\n",
    "}.toDF(\"user\", \"artist\")\n",
    "userArtistDF.agg(\n",
    "  min(\"user\"), max(\"user\"), min(\"artist\"), max(\"artist\")).show()"
   ]
  },
  {
   "cell_type": "code",
   "execution_count": 3,
   "metadata": {},
   "outputs": [
    {
     "data": {
      "text/plain": [
       "rawArtistData: org.apache.spark.sql.Dataset[String] = [value: string]\n",
       "artistByID: org.apache.spark.sql.DataFrame = [id: int, name: string]\n"
      ]
     },
     "execution_count": 3,
     "metadata": {},
     "output_type": "execute_result"
    }
   ],
   "source": [
    "val rawArtistData = spark.read.textFile(\"artist_data_small.txt\")\n",
    "val artistByID = rawArtistData.flatMap { line =>\n",
    "  val (id, name) = line.span(_ != '\\t')\n",
    "  if (name.isEmpty) {\n",
    "    None\n",
    "  } else {\n",
    "    try {\n",
    "      Some((id.toInt, name.trim))\n",
    "    } catch {\n",
    "      case _: NumberFormatException => None\n",
    "    }\n",
    "  }\n",
    "}.toDF(\"id\", \"name\")"
   ]
  },
  {
   "cell_type": "code",
   "execution_count": 4,
   "metadata": {},
   "outputs": [
    {
     "data": {
      "text/plain": [
       "rawArtistAlias: org.apache.spark.sql.Dataset[String] = [value: string]\n",
       "artistAlias: scala.collection.immutable.Map[Int,Int] = Map(1039896 -> 1277013, 1199139 -> 166, 1047491 -> 1003342, 9929763 -> 1003778, 2025676 -> 1001141, 9929753 -> 1007347, 2103190 -> 1002909, 1005489 -> 2003588, 2009180 -> 6751847, 1261152 -> 1007206, 6801236 -> 1013362, 6843530 -> 1260159, 1038051 -> 6684730, 10107676 -> 118, 1008455 -> 1020, 1351048 -> 71, 6606757 -> 1003888, 2061602 -> 6748393, 1289246 -> 1023527, 2036732 -> 71, 6614668 -> 7006467, 1014175 -> 1014175, 1197558 -> 1001943, 1012315 -> 1238836, 9928967 -> 15, 1055562 -> 1276662, 1037848 -> 1007201, 6923988 -> 2140107, 6634844 -> 1018408, 1244994 -> 1028445, 1042508 -> 1008824, 2126687 -> 1023928, 6806131 -> 1002061, 1017671 -> 1015311, 1275359 -> 1..."
      ]
     },
     "execution_count": 4,
     "metadata": {},
     "output_type": "execute_result"
    }
   ],
   "source": [
    "val rawArtistAlias = spark.read.textFile(\"artist_alias_small.txt\")\n",
    "val artistAlias = rawArtistAlias.flatMap { line =>\n",
    "  val Array(artist, alias) = line.split('\\t')\n",
    "  if (artist.isEmpty) {\n",
    "    None\n",
    "  } else {\n",
    "    Some((artist.toInt, alias.toInt))\n",
    "  }\n",
    "}.collect().toMap"
   ]
  },
  {
   "cell_type": "code",
   "execution_count": 5,
   "metadata": {},
   "outputs": [
    {
     "data": {
      "text/plain": [
       "res2: (Int, Int) = (1039896,1277013)\n"
      ]
     },
     "execution_count": 5,
     "metadata": {},
     "output_type": "execute_result"
    }
   ],
   "source": [
    "artistAlias.head"
   ]
  },
  {
   "cell_type": "code",
   "execution_count": 6,
   "metadata": {},
   "outputs": [
    {
     "name": "stdout",
     "output_type": "stream",
     "text": [
      "+-------+---------------+\n",
      "|     id|           name|\n",
      "+-------+---------------+\n",
      "|1003926|Collective Soul|\n",
      "+-------+---------------+\n",
      "\n"
     ]
    }
   ],
   "source": [
    "artistByID.filter($\"id\" isin (1208690, 1003926)).show()"
   ]
  },
  {
   "cell_type": "code",
   "execution_count": 7,
   "metadata": {},
   "outputs": [
    {
     "data": {
      "text/plain": [
       "import org.apache.spark.sql._\n",
       "import org.apache.spark.broadcast._\n",
       "buildCounts: (rawUserArtistData: org.apache.spark.sql.Dataset[String], bArtistAlias: org.apache.spark.broadcast.Broadcast[Map[Int,Int]])org.apache.spark.sql.DataFrame\n",
       "bArtistAlias: org.apache.spark.broadcast.Broadcast[scala.collection.immutable.Map[Int,Int]] = Broadcast(9)\n",
       "trainData: org.apache.spark.sql.DataFrame = [user: int, artist: int ... 1 more field]\n",
       "res4: trainData.type = [user: int, artist: int ... 1 more field]\n"
      ]
     },
     "execution_count": 7,
     "metadata": {},
     "output_type": "execute_result"
    }
   ],
   "source": [
    "import org.apache.spark.sql._\n",
    "import org.apache.spark.broadcast._\n",
    "\n",
    "def buildCounts(\n",
    "    rawUserArtistData: Dataset[String],\n",
    "    bArtistAlias: Broadcast[Map[Int,Int]]): DataFrame = {\n",
    "  rawUserArtistData.map { line =>\n",
    "    val Array(userID, artistID, count) = line.split(' ').map(_.toInt)\n",
    "    val finalArtistID =\n",
    "      bArtistAlias.value.getOrElse(artistID, artistID)\n",
    "    (userID, finalArtistID, count)\n",
    "  }.toDF(\"user\", \"artist\", \"count\")\n",
    "}\n",
    "\n",
    "val bArtistAlias = spark.sparkContext.broadcast(artistAlias)\n",
    "\n",
    "val trainData = buildCounts(rawUserArtistData, bArtistAlias)\n",
    "trainData.cache()"
   ]
  },
  {
   "cell_type": "code",
   "execution_count": 8,
   "metadata": {},
   "outputs": [
    {
     "data": {
      "text/plain": [
       "import org.apache.spark.ml.recommendation._\n",
       "import scala.util.Random\n",
       "model: org.apache.spark.ml.recommendation.ALSModel = als_8483252df3ef\n"
      ]
     },
     "execution_count": 8,
     "metadata": {},
     "output_type": "execute_result"
    }
   ],
   "source": [
    "import org.apache.spark.ml.recommendation._\n",
    "import scala.util.Random\n",
    "\n",
    "val model = new ALS().\n",
    "    setSeed(Random.nextLong()).\n",
    "    setImplicitPrefs(true).\n",
    "    setRank(10).\n",
    "    setRegParam(0.01).\n",
    "    setAlpha(1.0).\n",
    "    setMaxIter(5).\n",
    "    setUserCol(\"user\").\n",
    "    setItemCol(\"artist\").\n",
    "    setRatingCol(\"count\").\n",
    "    setPredictionCol(\"prediction\").\n",
    "    fit(trainData)"
   ]
  },
  {
   "cell_type": "code",
   "execution_count": 36,
   "metadata": {},
   "outputs": [
    {
     "name": "stdout",
     "output_type": "stream",
     "text": [
      "+--------+--------------------+\n",
      "|      id|                name|\n",
      "+--------+--------------------+\n",
      "| 1244627|    Hymie's Basement|\n",
      "| 1099116|    Central Services|\n",
      "|10592278|Frankie Lymond & ...|\n",
      "|     926|   Souls of Mischief|\n",
      "| 1278727|Slug, Aesop Rock ...|\n",
      "| 1001339|       House of Pain|\n",
      "|10606449|            ¸çüûêÎ¤¨|\n",
      "|    2020|         Lauryn Hill|\n",
      "| 1004028|    Notorious B.I.G.|\n",
      "| 1014826|       Junior Senior|\n",
      "| 1000584|            Al Green|\n",
      "|10494100|Crypt The Warchil...|\n",
      "|10494116|Jedi Mind Tricks;...|\n",
      "| 1308603|    2Pac/Trick Daddy|\n",
      "| 1009156|                 Mae|\n",
      "| 1008335|Earth, Wind and Fire|\n",
      "| 1009256|     Minnie Riperton|\n",
      "| 1002896|               Mirah|\n",
      "|    1087|          Biz Markie|\n",
      "|10450217|          Nikkifurie|\n",
      "+--------+--------------------+\n",
      "only showing top 20 rows\n",
      "\n"
     ]
    },
    {
     "data": {
      "text/plain": [
       "userID: Int = 2288164\n",
       "existingArtistIDs: Array[Int] = Array(1, 1000024, 1000033, 1000054, 1000113, 1000177, 1000241, 1000263, 1000433, 1000481, 1000487, 1000584, 1000591, 1000693, 1000737, 1000764, 1000781, 1001107, 1001277, 1001339, 1001534, 1001779, 1001819, 1001828, 1001855, 1002254, 1002325, 1002470, 1002513, 1002649, 1002726, 1002896, 1003328, 1003400, 1003430, 1003585, 1003665, 1003673, 1003681, 1003686, 1003752, 1003892, 1003928, 1004028, 1004317, 1004456, 1004496, 1004535, 1004841, 1006029, 1006034, 1006076, 1006672, 1007064, 1007260, 1007307, 1007416, 1007476, 1012243, 1007528, 1007543, 10078504, 1007883, 1008164, 1008286, 1008335, 1008337, 1008463, 1008515, 1008583, 1008663, 1009156, 1009226, 1009256, 1009393, 1009488, 1009544, 1009576, 1009893, 1010583, 1010650, 1010814, 1010..."
      ]
     },
     "execution_count": 36,
     "metadata": {},
     "output_type": "execute_result"
    }
   ],
   "source": [
    "//2288164\n",
    "//1000647\n",
    "val userID = 2288164\n",
    "\n",
    "val existingArtistIDs = trainData.\n",
    "  filter($\"user\" === userID).\n",
    "  select(\"artist\").as[Int].collect()\n",
    "\n",
    "artistByID.filter($\"id\" isin (existingArtistIDs:_*)).show()"
   ]
  },
  {
   "cell_type": "code",
   "execution_count": 10,
   "metadata": {},
   "outputs": [
    {
     "data": {
      "text/plain": [
       "makeRecommendations: (model: org.apache.spark.ml.recommendation.ALSModel, userID: Int, howMany: Int)org.apache.spark.sql.DataFrame\n"
      ]
     },
     "execution_count": 10,
     "metadata": {},
     "output_type": "execute_result"
    }
   ],
   "source": [
    "def makeRecommendations(\n",
    "    model: ALSModel,\n",
    "    userID: Int,\n",
    "    howMany: Int): DataFrame = {\n",
    "\n",
    "  val toRecommend = model.itemFactors.\n",
    "    select($\"id\".as(\"artist\")).\n",
    "    withColumn(\"user\", lit(userID))\n",
    "\n",
    "  model.transform(toRecommend).\n",
    "    select(\"artist\", \"prediction\").\n",
    "    orderBy($\"prediction\".desc).\n",
    "    limit(howMany)\n",
    "}"
   ]
  },
  {
   "cell_type": "code",
   "execution_count": 37,
   "metadata": {},
   "outputs": [
    {
     "data": {
      "text/plain": [
       "topRecommendations: org.apache.spark.sql.DataFrame = [artist: int, prediction: float]\n"
      ]
     },
     "execution_count": 37,
     "metadata": {},
     "output_type": "execute_result"
    }
   ],
   "source": [
    "val topRecommendations = makeRecommendations(model, userID, 5)"
   ]
  },
  {
   "cell_type": "code",
   "execution_count": 38,
   "metadata": {},
   "outputs": [],
   "source": [
    "spark.conf.set(\"spark.sql.crossJoin.enabled\", \"true\")"
   ]
  },
  {
   "cell_type": "code",
   "execution_count": 39,
   "metadata": {},
   "outputs": [
    {
     "name": "stdout",
     "output_type": "stream",
     "text": [
      "+-------+----------+\n",
      "| artist|prediction|\n",
      "+-------+----------+\n",
      "|   2231| 1.7739185|\n",
      "|   3292| 1.7348462|\n",
      "|1037970| 1.6296855|\n",
      "|   2085| 1.6195577|\n",
      "|   3170| 1.5850995|\n",
      "+-------+----------+\n",
      "\n"
     ]
    }
   ],
   "source": [
    "topRecommendations.show()"
   ]
  },
  {
   "cell_type": "code",
   "execution_count": 40,
   "metadata": {},
   "outputs": [
    {
     "name": "stdout",
     "output_type": "stream",
     "text": [
      "+-------+-------------+\n",
      "|     id|         name|\n",
      "+-------+-------------+\n",
      "|   2231|         Live|\n",
      "|1037970|   Kanye West|\n",
      "|   3292|       Eagles|\n",
      "|   3170|Tracy Chapman|\n",
      "|   2085|      Santana|\n",
      "+-------+-------------+\n",
      "\n"
     ]
    },
    {
     "data": {
      "text/plain": [
       "recommendedArtistIDs: Array[Int] = Array(2231, 3292, 1037970, 2085, 3170)\n"
      ]
     },
     "execution_count": 40,
     "metadata": {},
     "output_type": "execute_result"
    }
   ],
   "source": [
    "val recommendedArtistIDs =\n",
    "  topRecommendations.select(\"artist\").as[Int].collect()\n",
    "\n",
    "artistByID.filter($\"id\" isin (recommendedArtistIDs:_*)).show()\n"
   ]
  },
  {
   "cell_type": "code",
   "execution_count": 67,
   "metadata": {},
   "outputs": [
    {
     "ename": "<console>",
     "evalue": "6: error: illegal start of statement",
     "output_type": "error",
     "traceback": [
      "<console>:6: error: illegal start of statement",
      "    ...",
      "    ^",
      ""
     ]
    }
   ],
   "source": [
    "def areaUnderCurve(\n",
    "    positiveData: DataFrame,\n",
    "    bAllArtistIDs: Broadcast[Array[Int]],\n",
    "    predictFunction: (DataFrame => DataFrame)): Double = {\n",
    "    ...\n",
    "}"
   ]
  },
  {
   "cell_type": "code",
   "execution_count": null,
   "metadata": {},
   "outputs": [],
   "source": []
  },
  {
   "cell_type": "code",
   "execution_count": 51,
   "metadata": {},
   "outputs": [
    {
     "data": {
      "text/plain": [
       "allData: org.apache.spark.sql.DataFrame = [user: int, artist: int ... 1 more field]\n",
       "trainData: org.apache.spark.sql.Dataset[org.apache.spark.sql.Row] = [user: int, artist: int ... 1 more field]\n",
       "cvData: org.apache.spark.sql.Dataset[org.apache.spark.sql.Row] = [user: int, artist: int ... 1 more field]\n",
       "res33: cvData.type = [user: int, artist: int ... 1 more field]\n"
      ]
     },
     "execution_count": 51,
     "metadata": {},
     "output_type": "execute_result"
    }
   ],
   "source": [
    "val allData = buildCounts(rawUserArtistData, bArtistAlias)\n",
    "val Array(trainData, cvData) = allData.randomSplit(Array(0.9, 0.1))\n",
    "trainData.cache()\n",
    "cvData.cache()"
   ]
  },
  {
   "cell_type": "code",
   "execution_count": 52,
   "metadata": {},
   "outputs": [
    {
     "data": {
      "text/plain": [
       "allArtistIDs: Array[Int] = Array(1048726, 463, 1281854, 1008081, 1014690, 1087384, 1091250, 1233083, 1346305, 6623644, 833, 1316951, 1245054, 6642786, 1001129, 10130219, 1245208, 1004552, 1010281, 1036659, 1062730, 1291109, 6663903, 6668762, 6814190, 1279698, 6723762, 1004021, 1007972, 1009031, 1012617, 1013212, 1014191, 1023660, 1028228, 1040057, 1041189, 1053084, 10729995, 1189991, 1203598, 1230694, 1239654, 1259455, 1261703, 1262404, 1266726, 1276692, 1277913, 2281411, 3175, 4935, 6642933, 6911438, 6696725, 1038390, 2099635, 6649067, 1029443, 2022896, 1012261, 1034510, 1019303, 1015250, 1016546, 1023841, 1084951, 1260023, 1829, 496, 1007334, 10402275, 1059283, 1123104, 1126726, 1160165, 1171406, 2025147, 2061170, 2079446, 2139904, 2143912, 2146392, 6604291, 6615149, 6630663, 6636337,..."
      ]
     },
     "execution_count": 52,
     "metadata": {},
     "output_type": "execute_result"
    }
   ],
   "source": [
    "val allArtistIDs = allData.select(\"artist\").as[Int].distinct().collect()\n",
    "val bAllArtistIDs = spark.sparkContext.broadcast(allArtistIDs)"
   ]
  },
  {
   "cell_type": "code",
   "execution_count": 54,
   "metadata": {},
   "outputs": [
    {
     "data": {
      "text/plain": [
       "model: org.apache.spark.ml.recommendation.ALSModel = als_baa76971fd8d\n"
      ]
     },
     "execution_count": 54,
     "metadata": {},
     "output_type": "execute_result"
    }
   ],
   "source": [
    "val model = new ALS().\n",
    "    setSeed(Random.nextLong()).\n",
    "    setImplicitPrefs(true).\n",
    "    setRank(10).setRegParam(0.01).setAlpha(1.0).setMaxIter(5).\n",
    "    setUserCol(\"user\").setItemCol(\"artist\").\n",
    "    setRatingCol(\"count\").setPredictionCol(\"prediction\").\n",
    "    fit(trainData)"
   ]
  },
  {
   "cell_type": "code",
   "execution_count": 55,
   "metadata": {},
   "outputs": [
    {
     "data": {
      "text/plain": [
       "topRecommendations: org.apache.spark.sql.DataFrame = [artist: int, prediction: float]\n"
      ]
     },
     "execution_count": 55,
     "metadata": {},
     "output_type": "execute_result"
    }
   ],
   "source": [
    "val topRecommendations = makeRecommendations(model, userID, 5)"
   ]
  },
  {
   "cell_type": "code",
   "execution_count": 56,
   "metadata": {},
   "outputs": [
    {
     "name": "stdout",
     "output_type": "stream",
     "text": [
      "+-------+----------+\n",
      "| artist|prediction|\n",
      "+-------+----------+\n",
      "|1002840| 2.0156026|\n",
      "|    478| 1.6738842|\n",
      "|    250| 1.6192838|\n",
      "|1000848| 1.5848703|\n",
      "|   1403|  1.560207|\n",
      "+-------+----------+\n",
      "\n"
     ]
    }
   ],
   "source": [
    "topRecommendations.show()"
   ]
  },
  {
   "cell_type": "code",
   "execution_count": 57,
   "metadata": {},
   "outputs": [
    {
     "name": "stdout",
     "output_type": "stream",
     "text": [
      "+-------+------------------+\n",
      "|     id|              name|\n",
      "+-------+------------------+\n",
      "|1000848|        Roxy Music|\n",
      "|   1403|       Marvin Gaye|\n",
      "|    478|  Boards of Canada|\n",
      "|1002840|The Blood Brothers|\n",
      "|    250|           Outkast|\n",
      "+-------+------------------+\n",
      "\n"
     ]
    },
    {
     "data": {
      "text/plain": [
       "recommendedArtistIDs: Array[Int] = Array(1002840, 478, 250, 1000848, 1403)\n"
      ]
     },
     "execution_count": 57,
     "metadata": {},
     "output_type": "execute_result"
    }
   ],
   "source": [
    "val recommendedArtistIDs =\n",
    "  topRecommendations.select(\"artist\").as[Int].collect()\n",
    "\n",
    "artistByID.filter($\"id\" isin (recommendedArtistIDs:_*)).show()"
   ]
  },
  {
   "cell_type": "code",
   "execution_count": null,
   "metadata": {},
   "outputs": [],
   "source": []
  }
 ],
 "metadata": {
  "kernelspec": {
   "display_name": "spylon-kernel",
   "language": "scala",
   "name": "spylon-kernel"
  },
  "language_info": {
   "codemirror_mode": "text/x-scala",
   "file_extension": ".scala",
   "help_links": [
    {
     "text": "MetaKernel Magics",
     "url": "https://metakernel.readthedocs.io/en/latest/source/README.html"
    }
   ],
   "mimetype": "text/x-scala",
   "name": "scala",
   "pygments_lexer": "scala",
   "version": "0.4.1"
  }
 },
 "nbformat": 4,
 "nbformat_minor": 2
}
